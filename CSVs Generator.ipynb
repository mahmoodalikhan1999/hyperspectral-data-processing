{
 "cells": [
  {
   "cell_type": "code",
   "execution_count": 1,
   "id": "dd6db845-4e7c-4891-8ee3-4598f3d0c17c",
   "metadata": {},
   "outputs": [],
   "source": [
    "import os\n",
    "import geopandas"
   ]
  },
  {
   "cell_type": "code",
   "execution_count": 2,
   "id": "428fdcfb-dc5b-43a0-b0de-943f20feaa28",
   "metadata": {},
   "outputs": [
    {
     "name": "stdout",
     "output_type": "stream",
     "text": [
      "Requirement already satisfied: pyshp in c:\\users\\ncbcp\\appdata\\local\\programs\\python\\python312\\lib\\site-packages (2.3.1)\n",
      "Note: you may need to restart the kernel to use updated packages.\n"
     ]
    },
    {
     "name": "stderr",
     "output_type": "stream",
     "text": [
      "DEPRECATION: Loading egg at c:\\users\\ncbcp\\appdata\\local\\programs\\python\\python312\\lib\\site-packages\\chatbotai-0.3.1.3-py3.12.egg is deprecated. pip 24.3 will enforce this behaviour change. A possible replacement is to use pip for package installation. Discussion can be found at https://github.com/pypa/pip/issues/12330\n",
      "\n",
      "[notice] A new release of pip is available: 24.2 -> 24.3.1\n",
      "[notice] To update, run: python.exe -m pip install --upgrade pip\n"
     ]
    }
   ],
   "source": [
    "pip install pyshp"
   ]
  },
  {
   "cell_type": "code",
   "execution_count": 3,
   "id": "0376cba6-b523-4fc1-bdf9-50d02c7eab07",
   "metadata": {},
   "outputs": [
    {
     "name": "stdout",
     "output_type": "stream",
     "text": [
      "Requirement already satisfied: rasterio in c:\\users\\ncbcp\\appdata\\local\\programs\\python\\python312\\lib\\site-packages (1.3.10)\n",
      "Requirement already satisfied: shapely in c:\\users\\ncbcp\\appdata\\local\\programs\\python\\python312\\lib\\site-packages (2.0.4)\n",
      "Requirement already satisfied: fiona in c:\\users\\ncbcp\\appdata\\local\\programs\\python\\python312\\lib\\site-packages (1.9.6)\n",
      "Requirement already satisfied: affine in c:\\users\\ncbcp\\appdata\\local\\programs\\python\\python312\\lib\\site-packages (from rasterio) (2.4.0)\n",
      "Requirement already satisfied: attrs in c:\\users\\ncbcp\\appdata\\local\\programs\\python\\python312\\lib\\site-packages (from rasterio) (23.2.0)\n",
      "Requirement already satisfied: certifi in c:\\users\\ncbcp\\appdata\\local\\programs\\python\\python312\\lib\\site-packages (from rasterio) (2024.6.2)\n",
      "Requirement already satisfied: click>=4.0 in c:\\users\\ncbcp\\appdata\\local\\programs\\python\\python312\\lib\\site-packages (from rasterio) (8.1.7)\n",
      "Requirement already satisfied: cligj>=0.5 in c:\\users\\ncbcp\\appdata\\local\\programs\\python\\python312\\lib\\site-packages (from rasterio) (0.7.2)\n",
      "Requirement already satisfied: numpy in c:\\users\\ncbcp\\appdata\\local\\programs\\python\\python312\\lib\\site-packages (from rasterio) (1.26.4)\n",
      "Requirement already satisfied: snuggs>=1.4.1 in c:\\users\\ncbcp\\appdata\\local\\programs\\python\\python312\\lib\\site-packages (from rasterio) (1.4.7)\n",
      "Requirement already satisfied: click-plugins in c:\\users\\ncbcp\\appdata\\local\\programs\\python\\python312\\lib\\site-packages (from rasterio) (1.1.1)\n",
      "Requirement already satisfied: setuptools in c:\\users\\ncbcp\\appdata\\local\\programs\\python\\python312\\lib\\site-packages (from rasterio) (70.0.0)\n",
      "Requirement already satisfied: six in c:\\users\\ncbcp\\appdata\\local\\programs\\python\\python312\\lib\\site-packages (from fiona) (1.16.0)\n",
      "Requirement already satisfied: colorama in c:\\users\\ncbcp\\appdata\\local\\programs\\python\\python312\\lib\\site-packages (from click>=4.0->rasterio) (0.4.6)\n",
      "Requirement already satisfied: pyparsing>=2.1.6 in c:\\users\\ncbcp\\appdata\\local\\programs\\python\\python312\\lib\\site-packages (from snuggs>=1.4.1->rasterio) (3.1.2)\n",
      "Note: you may need to restart the kernel to use updated packages.\n"
     ]
    },
    {
     "name": "stderr",
     "output_type": "stream",
     "text": [
      "DEPRECATION: Loading egg at c:\\users\\ncbcp\\appdata\\local\\programs\\python\\python312\\lib\\site-packages\\chatbotai-0.3.1.3-py3.12.egg is deprecated. pip 24.3 will enforce this behaviour change. A possible replacement is to use pip for package installation. Discussion can be found at https://github.com/pypa/pip/issues/12330\n",
      "\n",
      "[notice] A new release of pip is available: 24.2 -> 24.3.1\n",
      "[notice] To update, run: python.exe -m pip install --upgrade pip\n"
     ]
    }
   ],
   "source": [
    "pip install rasterio shapely fiona"
   ]
  },
  {
   "cell_type": "code",
   "execution_count": 3,
   "id": "748d6667-cb1e-45be-8f90-2d4d982b0daa",
   "metadata": {},
   "outputs": [],
   "source": []
  },
  {
   "cell_type": "code",
   "execution_count": 9,
   "id": "ed8a44e0-0118-4da9-aac0-7d301334ab0a",
   "metadata": {},
   "outputs": [
    {
     "name": "stdout",
     "output_type": "stream",
     "text": [
      "CSV file with hyperspectral data has been created: D:/Z/Mahmood/Solar Panel Project/NEW_ROIs_USING ENVI/csvs/barren.csv\n"
     ]
    }
   ],
   "source": [
    "import rasterio\n",
    "import rasterio.mask\n",
    "import fiona\n",
    "import csv\n",
    "from shapely.geometry import shape, mapping\n",
    "import numpy as np\n",
    "from fiona.transform import transform_geom\n",
    "\n",
    "def reproject_geometry(geometry, src_crs, dst_crs):\n",
    "    return transform_geom(src_crs, dst_crs, geometry)\n",
    "\n",
    "# Define the input paths\n",
    "input_tiff = r\"D:/Z/Mahmood/Solar Panel Project/GoogleEarth_image_with_L_Band.tif\"\n",
    "input_shapefile = r\"D:/Z/Mahmood/Solar Panel Project/NEW_ROIs_USING ENVI/shapefiles/barren.shp\"\n",
    "\n",
    "\n",
    "# Define the output CSV file path\n",
    "output_csv = r\"D:/Z/Mahmood/Solar Panel Project/NEW_ROIs_USING ENVI/csvs/barren.csv\"\n",
    "\n",
    "# Open the shapefile\n",
    "with fiona.open(input_shapefile, \"r\") as shapefile:\n",
    "    # Read the schema (field names) from the shapefile\n",
    "    schema = shapefile.schema\n",
    "    shapefile_crs = shapefile.crs\n",
    "    \n",
    "    # Open the hyperspectral TIFF image\n",
    "    with rasterio.open(input_tiff) as src:\n",
    "        # Get the raster CRS\n",
    "        raster_crs = src.crs\n",
    "        # Get the number of bands in the hyperspectral image\n",
    "        num_bands = src.count\n",
    "        \n",
    "        # Prepare the header for the CSV file\n",
    "        header = list(schema['properties'].keys()) + ['x', 'y'] + [f'B{i}' for i in range(1, num_bands + 1)]\n",
    "        \n",
    "        # Open the CSV file for writing\n",
    "        with open(output_csv, 'w', newline='') as csvfile:\n",
    "            csvwriter = csv.writer(csvfile)\n",
    "            \n",
    "            # Write the header row\n",
    "            csvwriter.writerow(header)\n",
    "            \n",
    "            # Iterate over each polygon feature in the shapefile\n",
    "            for feature in shapefile:\n",
    "                geom = shape(feature['geometry'])\n",
    "                properties = feature['properties']\n",
    "                \n",
    "                # Reproject geometry if CRS are different\n",
    "                if shapefile_crs != raster_crs:\n",
    "                    geom = shape(reproject_geometry(mapping(geom), shapefile_crs, raster_crs))\n",
    "                \n",
    "                try:\n",
    "                    # Mask the raster with the current polygon and extract band values\n",
    "                    masked_image, transform = rasterio.mask.mask(src, [geom], crop=True)\n",
    "                    \n",
    "                    # Get the indices of the non-nodata pixels\n",
    "                    mask = np.ones(masked_image.shape[1:], dtype=bool)\n",
    "                    if src.nodata is not None:\n",
    "                        mask = (masked_image != src.nodata).all(axis=0)\n",
    "                    \n",
    "                    # Get the coordinates of the non-nodata pixels\n",
    "                    row_indices, col_indices = np.where(mask)\n",
    "                    for row, col in zip(row_indices, col_indices):\n",
    "                        pixel_values = masked_image[:, row, col]\n",
    "                        \n",
    "                        # Prepare a list to hold the row data\n",
    "                        row_data = list(properties.values())\n",
    "                        \n",
    "                        # Get the pixel coordinates in the original image space\n",
    "                        x, y = rasterio.transform.xy(transform, row, col)\n",
    "                        \n",
    "                        # Append coordinates and pixel values to the row\n",
    "                        row_data.extend([x, y])\n",
    "                        row_data.extend(pixel_values)\n",
    "                        \n",
    "                        # Write the row to the CSV file\n",
    "                        csvwriter.writerow(row_data)\n",
    "                except ValueError as e:\n",
    "                    print(f\"Skipping feature {feature['id']}: {e}\")\n",
    "\n",
    "print(f\"CSV file with hyperspectral data has been created: {output_csv}\")\n"
   ]
  }
 ],
 "metadata": {
  "kernelspec": {
   "display_name": "Python 3 (ipykernel)",
   "language": "python",
   "name": "python3"
  },
  "language_info": {
   "codemirror_mode": {
    "name": "ipython",
    "version": 3
   },
   "file_extension": ".py",
   "mimetype": "text/x-python",
   "name": "python",
   "nbconvert_exporter": "python",
   "pygments_lexer": "ipython3",
   "version": "3.12.6"
  }
 },
 "nbformat": 4,
 "nbformat_minor": 5
}
